{
  "cells": [
    {
      "cell_type": "code",
      "metadata": {},
      "source": [
        "import os\n",
        "import torch\n",
        "from torch.utils.data import DataLoader, Dataset\n",
        "from utils import get_data\n",
        "import torchvision.transforms.functional as AF\n",
        "\n",
        "\n",
        "device = torch.device(\"cuda:0\" if torch.cuda.is_available() else \"cpu\")\n",
        "# Data and mask path\n",
        "data_path = \".../Data/\"\n",
        "mask_lung_path = \".../Lung Mask/\"\n",
        "mask_lesion_path = \".../Mask/\"\n",
        "\n",
        "\n",
        "# names of files in data folder\n",
        "arr = os.listdir(data_path)\n",
        "\n",
        "# select test subjects\n",
        "test_data_numbers = range(1,20,2)\n",
        "\n",
        "inp_resize_val = 256 # image resize value\n",
        "\n",
        "\n",
        "class CovData(Dataset):\n",
        "    def __init__(self, data, lung_mask,lesion_mask):\n",
        "        self.data = data\n",
        "        self.lung_mask = lung_mask\n",
        "        self.lesion_mask=lesion_mask\n",
        "\n",
        "\n",
        "    def __len__(self):\n",
        "        return self.lung_mask.size()[0]\n",
        "\n",
        "    def __getitem__(self, item):\n",
        "\n",
        "        support_slices = self.data[item, :, :]\n",
        "        support_lung_masks = self.lung_mask[item, :, :]\n",
        "        support_lesion_masks = self.lesion_mask[item, :, :]\n",
        "\n",
        "        return support_slices, support_lung_masks, support_lesion_masks\n",
        "\n",
        "\n",
        "\n",
        "test_dataset, test_lung_maskset, test_lung_labels, test_lesion_maskset, test_lesion_labels = get_data(inp_resize_val, test_data_numbers, arr, data_path, mask_lung_path,mask_lesion_path)\n",
        "# Contrast adjust the images\n",
        "test_dataset=AF.autocontrast(torch.unsqueeze(test_dataset,1))\n",
        "test_dataset=torch.squeeze(test_dataset)\n",
        "\n",
        "test_dataset1 = CovData(test_dataset, test_lung_maskset,test_lesion_maskset)\n",
        "test_taskloader = DataLoader(test_dataset1,batch_size=1)\n",
        "\n",
        "\n",
        "\n"
      ],
      "outputs": [],
      "execution_count": null
    }
  ],
  "metadata": {
    "anaconda-cloud": {},
    "kernelspec": {
      "display_name": "Python 3",
      "language": "python",
      "name": "python3"
    },
    "language_info": {
      "codemirror_mode": {
        "name": "ipython",
        "version": 3
      },
      "file_extension": ".py",
      "mimetype": "text/x-python",
      "name": "python",
      "nbconvert_exporter": "python",
      "pygments_lexer": "ipython3",
      "version": "3.6.1"
    }
  },
  "nbformat": 4,
  "nbformat_minor": 4
}